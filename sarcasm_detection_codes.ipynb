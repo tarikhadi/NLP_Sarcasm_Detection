{
  "cells": [
    {
      "cell_type": "markdown",
      "source": [
        "# pegar dados"
      ],
      "metadata": {
        "id": "8Gpit_2NdmHF"
      }
    },
    {
      "cell_type": "code",
      "execution_count": 5,
      "metadata": {
        "id": "PAuLi9cu9oU9"
      },
      "outputs": [],
      "source": [
        "# abrir o dataset e transformar em um dataframe\n",
        "data = []\n",
        "with open('dataset.json') as f:\n",
        "    for line in f:\n",
        "        data.append(json.loads(line))\n",
        "\n",
        "df = pd.DataFrame(data)\n",
        "df = df[['headline', 'is_sarcastic']]"
      ]
    },
    {
      "cell_type": "markdown",
      "source": [
        "# BERT BASE UNCASED"
      ],
      "metadata": {
        "id": "bGP7kczFKCRv"
      }
    },
    {
      "cell_type": "code",
      "source": [
        "import json\n",
        "import torch\n",
        "import numpy as np\n",
        "import pandas as pd\n",
        "from datasets import load_metric, Dataset\n",
        "from peft import LoraConfig, get_peft_model\n",
        "from sklearn.model_selection import train_test_split\n",
        "from sklearn.metrics import accuracy_score, f1_score\n",
        "from torch.utils.data import Dataset, DataLoader, RandomSampler, SequentialSampler\n",
        "from transformers import BertTokenizer, BertForSequenceClassification, AdamW, Trainer, TrainingArguments"
      ],
      "metadata": {
        "id": "VI2qch2wdjow"
      },
      "execution_count": null,
      "outputs": []
    },
    {
      "cell_type": "code",
      "execution_count": 280,
      "metadata": {
        "id": "H7d1_7By_Sm5"
      },
      "outputs": [],
      "source": [
        "# dividir o dataset em treino e teste\n",
        "train_df, test_df = train_test_split(df, test_size=0.2)\n",
        "\n",
        "# Tokenizar os dados. os textos viram input IDs e as labels viram array de tensores\n",
        "tokenizer = BertTokenizer.from_pretrained('bert-base-uncased')\n",
        "\n",
        "train_encodings = tokenizer(train_df['headline'].tolist(), padding=True, truncation=True, return_tensors='pt')\n",
        "train_labels = torch.tensor(train_df['is_sarcastic'].tolist())\n",
        "\n",
        "test_encodings = tokenizer(test_df['headline'].tolist(), padding=True, truncation=True, return_tensors='pt')\n",
        "test_labels = torch.tensor(test_df['is_sarcastic'].tolist())\n",
        "\n",
        "#transformar o dataset inteiro em lista de dicionario\n",
        "# train_dataset = [{'input_ids': train_encodings['input_ids'][i], 'attention_mask': train_encodings['attention_mask'][i], 'labels': train_labels[i]} for i in range(len(train_labels))]\n",
        "# test_dataset = [{'input_ids': test_encodings['input_ids'][i], 'attention_mask': test_encodings['attention_mask'][i], 'labels': test_labels[i]} for i in range(len(test_labels))]\n",
        "\n",
        "train_dataset = Dataset.from_dict({\n",
        "    'input_ids': train_encodings['input_ids'],\n",
        "    'attention_mask': train_encodings['attention_mask'],\n",
        "    'labels': train_labels\n",
        "})\n",
        "\n",
        "test_dataset = Dataset.from_dict({\n",
        "    'input_ids': test_encodings['input_ids'],\n",
        "    'attention_mask': test_encodings['attention_mask'],\n",
        "    'labels': test_labels\n",
        "})\n",
        "\n",
        "# nome do modelo e quantas classificacoes a coluna das anotacoes tem (no caso desse dataset, são 2: 1 ou 0)\n",
        "model = BertForSequenceClassification.from_pretrained('bert-base-uncased', num_labels=2)\n",
        "\n",
        "# definir se vai rodar em gpu ou cpu, se não define, automaticamente roda na CPU\n",
        "device = torch.device('cuda') if torch.cuda.is_available() else torch.device('cpu')\n",
        "model.to(device)\n",
        "\n",
        "# definir os argumentos do LoRA\n",
        "lora_config = LoraConfig(r=8, lora_alpha=16, lora_dropout=0.1)\n",
        "\n",
        "# colocar o meu modelo dentro do LoRA\n",
        "model = get_peft_model(model, lora_config)\n",
        "\n",
        "# define como o treinamento deve se comportar\n",
        "# training_args = TrainingArguments(\n",
        "#     num_train_epochs=5,\n",
        "#     per_device_train_batch_size=8,\n",
        "#     weight_decay=0.01,\n",
        "#     learning_rate=2e-5,\n",
        "#     output_dir='./results',\n",
        "#     logging_dir='./logs',\n",
        "#     logging_strategy='epoch',\n",
        "#     eval_strategy='epoch')\n",
        "\n",
        "training_args = TrainingArguments(\n",
        "    num_train_epochs=5,\n",
        "    per_device_train_batch_size=8,\n",
        "    weight_decay=0.01,\n",
        "    learning_rate=2e-5,\n",
        "    output_dir='./results',\n",
        "    logging_dir='./logs',\n",
        "    logging_strategy='epoch',\n",
        "    evaluation_strategy='epoch',  # Certifique-se de que esta configuração é compatível com a versão da biblioteca\n",
        "    save_strategy='epoch',  # Adicione esta linha para salvar o modelo a cada época  # Adicione esta linha para carregar o melhor modelo ao final\n",
        "    report_to='tensorboard'  # Certifique-se de que o TensorBoard está configurado para logging\n",
        ")\n",
        "\n",
        "# define o Trainer, ou seja, o modelo usado, como vai se comportar e o dataset que vai ser utilizado\n",
        "trainer = Trainer(\n",
        "    model=model,\n",
        "    args=training_args,\n",
        "    train_dataset=train_dataset,\n",
        "    eval_dataset=test_dataset\n",
        ")\n",
        "\n",
        "# Train the model\n",
        "trainer.train()\n"
      ]
    },
    {
      "cell_type": "code",
      "source": [],
      "metadata": {
        "id": "PGLEtRFHKE0K"
      },
      "execution_count": null,
      "outputs": []
    },
    {
      "cell_type": "markdown",
      "source": [
        "# RoBERTa"
      ],
      "metadata": {
        "id": "SNrPtm29KF18"
      }
    },
    {
      "cell_type": "code",
      "source": [
        "from transformers import RobertaTokenizer, RobertaForSequenceClassification, Trainer, TrainingArguments\n",
        "from datasets import Dataset\n",
        "import torch\n",
        "from sklearn.model_selection import train_test_split\n",
        "from sklearn.metrics import accuracy_score, f1_score\n",
        "import numpy as np\n",
        "\n",
        "# Dividir o dataset em treino e teste\n",
        "train_df, test_df = train_test_split(df, test_size=0.2)\n",
        "\n",
        "# Tokenizar os dados\n",
        "tokenizer = RobertaTokenizer.from_pretrained('roberta-base')\n",
        "\n",
        "train_encodings = tokenizer(train_df['headline'].tolist(), padding=True, truncation=True, max_length=512, return_tensors='pt')\n",
        "train_labels = torch.tensor(train_df['is_sarcastic'].tolist())\n",
        "\n",
        "test_encodings = tokenizer(test_df['headline'].tolist(), padding=True, truncation=True, max_length=512, return_tensors='pt')\n",
        "# No need to include labels here, they will be used for evaluation after training\n",
        "test_labels = torch.tensor(test_df['is_sarcastic'].tolist())\n",
        "\n",
        "# Transformar o dataset em lista de dicionários\n",
        "train_dataset = Dataset.from_dict({\n",
        "    'input_ids': train_encodings['input_ids'],\n",
        "    'attention_mask': train_encodings['attention_mask'],\n",
        "    'labels': train_labels\n",
        "})\n",
        "\n",
        "test_dataset = Dataset.from_dict({\n",
        "    'input_ids': test_encodings['input_ids'],\n",
        "    'attention_mask': test_encodings['attention_mask']\n",
        "})\n",
        "\n",
        "# Nome do modelo e número de rótulos de classificação\n",
        "model = RobertaForSequenceClassification.from_pretrained('roberta-base', num_labels=2)\n",
        "\n",
        "# Definir se vai rodar em GPU ou CPU\n",
        "device = torch.device('cuda') if torch.cuda.is_available() else torch.device('cpu')\n",
        "model.to(device)\n",
        "\n",
        "# Define LoRA configurations if needed\n",
        "lora_config = LoraConfig(r=8, lora_alpha=16, lora_dropout=0.1)\n",
        "model = get_peft_model(model, lora_config)\n",
        "\n",
        "# Definir os argumentos de treinamento\n",
        "training_args = TrainingArguments(\n",
        "    num_train_epochs=5,\n",
        "    per_device_train_batch_size=8,\n",
        "    weight_decay=0.01,\n",
        "    learning_rate=2e-5,\n",
        "    output_dir='./results',\n",
        "    logging_dir='./logs',\n",
        "    logging_strategy='epoch',\n",
        "    evaluation_strategy='epoch',\n",
        "    save_strategy='epoch',\n",
        "    report_to='tensorboard'\n",
        ")\n",
        "\n",
        "# Definir o Trainer\n",
        "trainer = Trainer(\n",
        "    model=model,\n",
        "    args=training_args,\n",
        "    train_dataset=train_dataset,\n",
        "    eval_dataset=test_dataset\n",
        ")\n",
        "\n",
        "# Treinar o modelo\n",
        "trainer.train()\n",
        "\n",
        "\n"
      ],
      "metadata": {
        "colab": {
          "base_uri": "https://localhost:8080/",
          "height": 281
        },
        "id": "9-rpyuB9KHi_",
        "outputId": "63c607e2-c79b-4322-c010-9be47622dd0d"
      },
      "execution_count": 339,
      "outputs": [
        {
          "output_type": "display_data",
          "data": {
            "text/plain": [
              "<IPython.core.display.HTML object>"
            ],
            "text/html": [
              "\n",
              "    <div>\n",
              "      \n",
              "      <progress value='13355' max='13355' style='width:300px; height:20px; vertical-align: middle;'></progress>\n",
              "      [13355/13355 16:59, Epoch 5/5]\n",
              "    </div>\n",
              "    <table border=\"1\" class=\"dataframe\">\n",
              "  <thead>\n",
              " <tr style=\"text-align: left;\">\n",
              "      <th>Epoch</th>\n",
              "      <th>Training Loss</th>\n",
              "      <th>Validation Loss</th>\n",
              "    </tr>\n",
              "  </thead>\n",
              "  <tbody>\n",
              "    <tr>\n",
              "      <td>1</td>\n",
              "      <td>0.535200</td>\n",
              "      <td>No log</td>\n",
              "    </tr>\n",
              "    <tr>\n",
              "      <td>2</td>\n",
              "      <td>0.345600</td>\n",
              "      <td>No log</td>\n",
              "    </tr>\n",
              "    <tr>\n",
              "      <td>3</td>\n",
              "      <td>0.324800</td>\n",
              "      <td>No log</td>\n",
              "    </tr>\n",
              "    <tr>\n",
              "      <td>4</td>\n",
              "      <td>0.305800</td>\n",
              "      <td>No log</td>\n",
              "    </tr>\n",
              "    <tr>\n",
              "      <td>5</td>\n",
              "      <td>0.308400</td>\n",
              "      <td>No log</td>\n",
              "    </tr>\n",
              "  </tbody>\n",
              "</table><p>"
            ]
          },
          "metadata": {}
        },
        {
          "output_type": "execute_result",
          "data": {
            "text/plain": [
              "TrainOutput(global_step=13355, training_loss=0.36398506235960315, metrics={'train_runtime': 1020.1062, 'train_samples_per_second': 104.729, 'train_steps_per_second': 13.092, 'total_flos': 3746143755964560.0, 'train_loss': 0.36398506235960315, 'epoch': 5.0})"
            ]
          },
          "metadata": {},
          "execution_count": 339
        }
      ]
    },
    {
      "cell_type": "code",
      "source": [
        "test_predictions = trainer.predict(test_dataset)\n",
        "\n",
        "logits = test_predictions.predictions\n",
        "print(\"Logits shape:\", logits.shape)\n",
        "print(\"True labels shape:\", test_labels.shape)\n",
        "\n",
        "if logits.shape[0] != len(test_labels):\n",
        "    raise ValueError(\"Mismatch between number of logits and true labels\")\n",
        "\n",
        "predicted_labels = np.argmax(logits, axis=1)\n",
        "\n",
        "accuracy = accuracy_score(test_df['is_sarcastic'], predicted_labels)\n",
        "f1 = f1_score(test_df['is_sarcastic'], predicted_labels)\n",
        "\n",
        "print(f'Accuracy, {accuracy:.4f}')\n",
        "print(f'F1 Score, {f1:.4f}')\n"
      ],
      "metadata": {
        "colab": {
          "base_uri": "https://localhost:8080/"
        },
        "id": "2aONBap_WbSP",
        "outputId": "516932d3-3ff8-486c-93b3-c592ce76270c"
      },
      "execution_count": 354,
      "outputs": [
        {
          "output_type": "stream",
          "name": "stdout",
          "text": [
            "Accuracy, 0.8903\n",
            "F1 Score, 0.8681\n"
          ]
        }
      ]
    },
    {
      "cell_type": "code",
      "source": [
        "# Confusion Matrix\n",
        "cm = confusion_matrix(test_df['is_sarcastic'], predicted_labels)\n",
        "\n",
        "# Plot the confusion matrix\n",
        "plt.figure(figsize=(10, 7))\n",
        "sns.heatmap(cm, annot=True, fmt='d', cmap='Blues',\n",
        "            xticklabels=['Não Sarcasmo', 'Sarcasmo'],\n",
        "            yticklabels=['Não Sarcasmo', 'Sarcasmo'])\n",
        "plt.xlabel('Predicted')\n",
        "plt.ylabel('Truth')\n",
        "plt.show()\n",
        "\n",
        "print(\"Accuracy on the test set:\", accuracy)\n",
        "print(\"F1 Score on the test set:\", f1)\n"
      ],
      "metadata": {
        "colab": {
          "base_uri": "https://localhost:8080/",
          "height": 653
        },
        "id": "BDH1RSGhYK6a",
        "outputId": "7e43125c-975f-44f5-a8c3-5f5d30ed2ae7"
      },
      "execution_count": 355,
      "outputs": [
        {
          "output_type": "display_data",
          "data": {
            "text/plain": [
              "<Figure size 1000x700 with 2 Axes>"
            ],
            "image/png": "[encoded data removed]"
          },
          "metadata": {}
        },
        {
          "output_type": "stream",
          "name": "stdout",
          "text": [
            "Accuracy on the test set: 0.8903032572070385\n",
            "F1 Score on the test set: 0.8681368136813681\n"
          ]
        }
      ]
    },
    {
      "cell_type": "code",
      "source": [
        "# prompt: create precision and recall\n",
        "\n",
        "from sklearn.metrics import precision_score, recall_score\n",
        "\n",
        "precision = precision_score(test_df['is_sarcastic'], predicted_labels)\n",
        "recall = recall_score(test_df['is_sarcastic'], predicted_labels)\n",
        "\n",
        "print(f'Precision: {precision:.4f}')\n",
        "print(f'Recall: {recall:.4f}')\n"
      ],
      "metadata": {
        "colab": {
          "base_uri": "https://localhost:8080/"
        },
        "id": "PGij0UHQlqnA",
        "outputId": "6c0c916b-2ff0-4bf9-bedc-282ce16a8869"
      },
      "execution_count": 410,
      "outputs": [
        {
          "output_type": "stream",
          "name": "stdout",
          "text": [
            "Precision: 0.9194\n",
            "Recall: 0.8223\n"
          ]
        }
      ]
    },
    {
      "cell_type": "markdown",
      "source": [
        "# RoBERTa + LSTM + CNN"
      ],
      "metadata": {
        "id": "SV1g2oTfZQiT"
      }
    },
    {
      "cell_type": "code",
      "source": [
        "from transformers import RobertaTokenizer, RobertaModel, AdamW\n",
        "from datasets import Dataset\n",
        "import torch\n",
        "import torch.nn as nn\n",
        "from torch.utils.data import DataLoader, Dataset as TorchDataset\n",
        "from tqdm import tqdm\n",
        "from peft import LoraConfig, get_peft_model"
      ],
      "metadata": {
        "id": "uWn7ZY9dZUXq"
      },
      "execution_count": 376,
      "outputs": []
    },
    {
      "cell_type": "code",
      "source": [
        "from transformers import RobertaTokenizer, RobertaModel, AdamW\n",
        "from datasets import Dataset\n",
        "import torch\n",
        "import torch.nn as nn\n",
        "from torch.utils.data import DataLoader, Dataset as TorchDataset\n",
        "from tqdm import tqdm\n",
        "from peft import LoraConfig, get_peft_model\n",
        "\n",
        "# Define a custom dataset class\n",
        "class SarcasmDataset(TorchDataset):\n",
        "    def __init__(self, dataframe, tokenizer, max_length):\n",
        "        self.dataframe = dataframe\n",
        "        self.tokenizer = tokenizer\n",
        "        self.max_length = max_length\n",
        "\n",
        "    def __len__(self):\n",
        "        return len(self.dataframe)\n",
        "\n",
        "    def __getitem__(self, idx):\n",
        "        row = self.dataframe.iloc[idx]\n",
        "        text = row['headline']\n",
        "        label = torch.tensor(row['is_sarcastic'])\n",
        "\n",
        "        encoding = self.tokenizer.encode_plus(\n",
        "            text,\n",
        "            add_special_tokens=True,\n",
        "            max_length=self.max_length,\n",
        "            return_token_type_ids=False,\n",
        "            padding='max_length',\n",
        "            truncation=True,\n",
        "            return_attention_mask=True,\n",
        "            return_tensors='pt'\n",
        "        )\n",
        "\n",
        "        return {\n",
        "            'input_ids': encoding['input_ids'].flatten(),\n",
        "            'attention_mask': encoding['attention_mask'].flatten(),\n",
        "            'label': label\n",
        "        }\n",
        "\n",
        "# Define the custom model with LoRA\n",
        "class RCNNRobertaModel(nn.Module):\n",
        "    def __init__(self, base_model):\n",
        "        super(RCNNRobertaModel, self).__init__()\n",
        "        self.roberta = base_model\n",
        "        self.lstm = nn.LSTM(input_size=768, hidden_size=256, num_layers=1, bidirectional=True, batch_first=True)\n",
        "        self.conv = nn.Conv1d(in_channels=512, out_channels=128, kernel_size=3, padding=1)\n",
        "        self.max_pool = nn.MaxPool1d(kernel_size=2)\n",
        "        self.fc = nn.Linear(128, 2)\n",
        "\n",
        "    def forward(self, input_ids, attention_mask):\n",
        "        roberta_output = self.roberta(input_ids=input_ids, attention_mask=attention_mask)[0]\n",
        "        lstm_output, _ = self.lstm(roberta_output)\n",
        "        lstm_output = lstm_output.permute(0, 2, 1)\n",
        "        conv_output = self.conv(lstm_output)\n",
        "        pooled_output = self.max_pool(conv_output)\n",
        "        pooled_output = pooled_output.permute(0, 2, 1)\n",
        "        logits = self.fc(pooled_output[:, -1, :])\n",
        "        return logits\n",
        "\n",
        "# Initialize tokenizer and datasets\n",
        "tokenizer = RobertaTokenizer.from_pretrained('roberta-base')\n",
        "\n",
        "train_dataset = SarcasmDataset(train_df, tokenizer, max_length=128)\n",
        "test_dataset = SarcasmDataset(test_df, tokenizer, max_length=128)\n",
        "train_loader = DataLoader(train_dataset, batch_size=8, shuffle=True)\n",
        "test_loader = DataLoader(test_dataset, batch_size=8, shuffle=False)\n",
        "\n",
        "# Initialize RoBERTa with LoRA\n",
        "base_model = RobertaModel.from_pretrained('roberta-base')\n",
        "lora_config = LoraConfig(\n",
        "    r=8,\n",
        "    lora_alpha=16,\n",
        "    lora_dropout=0.1,\n",
        "    target_modules=[\"query\", \"key\", \"value\"]\n",
        ")\n",
        "\n",
        "lora_model = get_peft_model(base_model, lora_config)\n",
        "model = RCNNRobertaModel(lora_model)\n",
        "\n",
        "device = 'cuda' if torch.cuda.is_available() else 'cpu'\n",
        "model.to(device)\n",
        "\n",
        "# Define optimizer and loss function\n",
        "optimizer = AdamW(model.parameters(), lr=2e-5)\n",
        "loss_fn = nn.CrossEntropyLoss()\n",
        "\n",
        "# Training and evaluation functions\n",
        "def train_epoch(model, data_loader, loss_fn, optimizer, device):\n",
        "    model.train()\n",
        "    losses = []\n",
        "    correct_predictions = 0\n",
        "\n",
        "    progress_bar = tqdm(data_loader, desc='Training', leave=False)\n",
        "    for batch in progress_bar:\n",
        "        input_ids = batch['input_ids'].to(device)\n",
        "        attention_mask = batch['attention_mask'].to(device)\n",
        "        labels = batch['label'].to(device)\n",
        "\n",
        "        outputs = model(input_ids=input_ids, attention_mask=attention_mask)\n",
        "        _, preds = torch.max(outputs, dim=1)\n",
        "        loss = loss_fn(outputs, labels)\n",
        "\n",
        "        correct_predictions += torch.sum(preds == labels)\n",
        "        losses.append(loss.item())\n",
        "\n",
        "        optimizer.zero_grad()\n",
        "        loss.backward()\n",
        "        optimizer.step()\n",
        "\n",
        "        progress_bar.set_postfix({'loss': loss.item()})\n",
        "\n",
        "    train_acc = correct_predictions.double() / len(data_loader.dataset)\n",
        "    train_loss = sum(losses) / len(losses)\n",
        "    return train_acc, train_loss\n",
        "\n",
        "def eval_model(model, data_loader, loss_fn, device):\n",
        "    model.eval()\n",
        "    losses = []\n",
        "    correct_predictions = 0\n",
        "\n",
        "    progress_bar = tqdm(data_loader, desc='Evaluating', leave=False)\n",
        "    with torch.no_grad():\n",
        "        for batch in progress_bar:\n",
        "            input_ids = batch['input_ids'].to(device)\n",
        "            attention_mask = batch['attention_mask'].to(device)\n",
        "            labels = batch['label'].to(device)\n",
        "\n",
        "            outputs = model(input_ids=input_ids, attention_mask=attention_mask)\n",
        "            _, preds = torch.max(outputs, dim=1)\n",
        "            loss = loss_fn(outputs, labels)\n",
        "\n",
        "            correct_predictions += torch.sum(preds == labels)\n",
        "            losses.append(loss.item())\n",
        "\n",
        "            progress_bar.set_postfix({'loss': loss.item()})\n",
        "\n",
        "    val_acc = correct_predictions.double() / len(data_loader.dataset)\n",
        "    val_loss = sum(losses) / len(losses)\n",
        "    return val_acc, val_loss\n",
        "\n",
        "# Training loop\n",
        "EPOCHS = 5\n",
        "\n",
        "for epoch in range(EPOCHS):\n",
        "    print(f'Epoch {epoch + 1}/{EPOCHS}')\n",
        "    train_acc, train_loss = train_epoch(model, train_loader, loss_fn, optimizer, device)\n",
        "    print(f'Train loss {train_loss:.4f} accuracy {train_acc:.4f}')\n",
        "    val_acc, val_loss = eval_model(model, test_loader, loss_fn, device)\n",
        "    print(f'Val   loss {val_loss:.4f} accuracy {val_acc:.4f}')\n"
      ],
      "metadata": {
        "colab": {
          "base_uri": "https://localhost:8080/"
        },
        "id": "FKvS0SRyZXK3",
        "outputId": "def34b4c-5a9f-40f1-8413-cbd5428b08f3"
      },
      "execution_count": 398,
      "outputs": [
        {
          "output_type": "stream",
          "name": "stdout",
          "text": [
            "Epoch 1/5\n"
          ]
        },
        {
          "output_type": "stream",
          "name": "stderr",
          "text": []
        },
        {
          "output_type": "stream",
          "name": "stdout",
          "text": [
            "Train loss 0.3800 accuracy 0.8171\n"
          ]
        },
        {
          "output_type": "stream",
          "name": "stderr",
          "text": []
        },
        {
          "output_type": "stream",
          "name": "stdout",
          "text": [
            "Val   loss 0.2577 accuracy 0.8952\n",
            "Epoch 2/5\n"
          ]
        },
        {
          "output_type": "stream",
          "name": "stderr",
          "text": []
        },
        {
          "output_type": "stream",
          "name": "stdout",
          "text": [
            "Train loss 0.2592 accuracy 0.8915\n"
          ]
        },
        {
          "output_type": "stream",
          "name": "stderr",
          "text": []
        },
        {
          "output_type": "stream",
          "name": "stdout",
          "text": [
            "Val   loss 0.2268 accuracy 0.9042\n",
            "Epoch 3/5\n"
          ]
        },
        {
          "output_type": "stream",
          "name": "stderr",
          "text": []
        },
        {
          "output_type": "stream",
          "name": "stdout",
          "text": [
            "Train loss 0.2257 accuracy 0.9059\n"
          ]
        },
        {
          "output_type": "stream",
          "name": "stderr",
          "text": []
        },
        {
          "output_type": "stream",
          "name": "stdout",
          "text": [
            "Val   loss 0.2020 accuracy 0.9174\n",
            "Epoch 4/5\n"
          ]
        },
        {
          "output_type": "stream",
          "name": "stderr",
          "text": []
        },
        {
          "output_type": "stream",
          "name": "stdout",
          "text": [
            "Train loss 0.2061 accuracy 0.9155\n"
          ]
        },
        {
          "output_type": "stream",
          "name": "stderr",
          "text": []
        },
        {
          "output_type": "stream",
          "name": "stdout",
          "text": [
            "Val   loss 0.1860 accuracy 0.9238\n",
            "Epoch 5/5\n"
          ]
        },
        {
          "output_type": "stream",
          "name": "stderr",
          "text": []
        },
        {
          "output_type": "stream",
          "name": "stdout",
          "text": [
            "Train loss 0.1914 accuracy 0.9215\n"
          ]
        },
        {
          "output_type": "stream",
          "name": "stderr",
          "text": [
            "                                                                         "
          ]
        },
        {
          "output_type": "stream",
          "name": "stdout",
          "text": [
            "Val   loss 0.2326 accuracy 0.9047\n"
          ]
        },
        {
          "output_type": "stream",
          "name": "stderr",
          "text": [
            "\r"
          ]
        }
      ]
    },
    {
      "cell_type": "code",
      "source": [
        "from sklearn.metrics import accuracy_score, f1_score\n",
        "import numpy as np\n",
        "\n",
        "# Define function to predict and evaluate the model\n",
        "def predict_and_evaluate(model, data_loader, device):\n",
        "    model.eval()\n",
        "    all_preds = []\n",
        "    all_labels = []\n",
        "\n",
        "    with torch.no_grad():\n",
        "        for batch in tqdm(data_loader, desc='Predicting', leave=False):\n",
        "            input_ids = batch['input_ids'].to(device)\n",
        "            attention_mask = batch['attention_mask'].to(device)\n",
        "            labels = batch['label'].cpu().numpy()\n",
        "\n",
        "            outputs = model(input_ids=input_ids, attention_mask=attention_mask)\n",
        "            _, preds = torch.max(outputs, dim=1)\n",
        "\n",
        "            all_preds.extend(preds.cpu().numpy())\n",
        "            all_labels.extend(labels)\n",
        "\n",
        "    accuracy = accuracy_score(all_labels, all_preds)\n",
        "    f1 = f1_score(all_labels, all_preds)\n",
        "\n",
        "    return accuracy, f1\n",
        "\n",
        "# Make predictions and evaluate on test dataset\n",
        "test_accuracy, test_f1 = predict_and_evaluate(model, test_loader, device)\n",
        "print(f'Test Accuracy: {test_accuracy:.4f}')\n",
        "print(f'Test F1 Score: {test_f1:.4f}')\n"
      ],
      "metadata": {
        "colab": {
          "base_uri": "https://localhost:8080/"
        },
        "id": "nu-bliQIgryo",
        "outputId": "485f713c-9299-4e2d-d770-bd1afa375d5e"
      },
      "execution_count": 401,
      "outputs": [
        {
          "output_type": "stream",
          "name": "stderr",
          "text": [
            "                                                             "
          ]
        },
        {
          "output_type": "stream",
          "name": "stdout",
          "text": [
            "Test Accuracy: 0.9047\n",
            "Test F1 Score: 0.8827\n"
          ]
        },
        {
          "output_type": "stream",
          "name": "stderr",
          "text": [
            "\r"
          ]
        }
      ]
    },
    {
      "cell_type": "code",
      "source": [
        "\n",
        "\n",
        "from sklearn.metrics import confusion_matrix\n",
        "import seaborn as sns\n",
        "import matplotlib.pyplot as plt\n",
        "\n",
        "test_accuracy, test_f1 = predict_and_evaluate(model, test_loader, device)\n",
        "print(f'Test Accuracy: {test_accuracy:.4f}')\n",
        "print(f'Test F1 Score: {test_f1:.4f}')\n",
        "\n",
        "# Predict labels for the test set\n",
        "model.eval()\n",
        "all_preds = []\n",
        "all_labels = []\n",
        "with torch.no_grad():\n",
        "    for batch in test_loader:\n",
        "        input_ids = batch['input_ids'].to(device)\n",
        "        attention_mask = batch['attention_mask'].to(device)\n",
        "        labels = batch['label'].to(device)\n",
        "        outputs = model(input_ids=input_ids, attention_mask=attention_mask)\n",
        "        _, preds = torch.max(outputs, dim=1)\n",
        "        all_preds.extend(preds.cpu().numpy())\n",
        "        all_labels.extend(labels.cpu().numpy())\n",
        "\n",
        "# Generate confusion matrix\n",
        "cm = confusion_matrix(all_labels, all_preds)\n",
        "\n",
        "# Plot the confusion matrix\n",
        "plt.figure(figsize=(10, 7))\n",
        "sns.heatmap(cm, annot=True, fmt='d', cmap='Blues',\n",
        "            xticklabels=['Não Sarcasmo', 'Sarcasmo'],\n",
        "            yticklabels=['Não Sarcasmo', 'Sarcasmo'])\n",
        "plt.xlabel('Predicted')\n",
        "plt.ylabel('Truth')\n",
        "plt.show()\n",
        "\n"
      ],
      "metadata": {
        "colab": {
          "base_uri": "https://localhost:8080/",
          "height": 619
        },
        "id": "x260fuWej09h",
        "outputId": "33232124-4995-4d51-98cf-9651bcdaa5bd"
      },
      "execution_count": 407,
      "outputs": [
        {
          "output_type": "display_data",
          "data": {
            "text/plain": [
              "<Figure size 1000x700 with 2 Axes>"
            ],
            "image/png": "[encoded data removed]"
          },
          "metadata": {}
        }
      ]
    },
    {
      "cell_type": "code",
      "source": [
        "# prompt: precision and recall\n",
        "\n",
        "from sklearn.metrics import precision_score, recall_score\n",
        "\n",
        "# Calculate precision and recall\n",
        "precision = precision_score(all_labels, all_preds)\n",
        "recall = recall_score(all_labels, all_preds)\n",
        "\n",
        "print(f'Precision: {precision:.4f}')\n",
        "print(f'Recall: {recall:.4f}')\n"
      ],
      "metadata": {
        "colab": {
          "base_uri": "https://localhost:8080/"
        },
        "id": "uVM_7mKUk48k",
        "outputId": "62361802-574f-4409-b6b4-4482199f7267"
      },
      "execution_count": 409,
      "outputs": [
        {
          "output_type": "stream",
          "name": "stdout",
          "text": [
            "Precision: 0.9604\n",
            "Recall: 0.8167\n"
          ]
        }
      ]
    }
  ],
  "metadata": {
    "accelerator": "GPU",
    "colab": {
      "gpuType": "T4",
      "machine_shape": "hm",
      "provenance": [],
      "authorship_tag": "ABX9TyPM8s62bqkap7JzzzeHEugR"
    },
    "kernelspec": {
      "display_name": "Python 3",
      "name": "python3"
    },
    "language_info": {
      "name": "python"
    }
  },
  "nbformat": 4,
  "nbformat_minor": 0
}